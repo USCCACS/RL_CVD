{
 "cells": [
  {
   "cell_type": "code",
   "execution_count": 10,
   "metadata": {},
   "outputs": [
    {
     "name": "stdout",
     "output_type": "stream",
     "text": [
      "The autoreload extension is already loaded. To reload it, use:\n",
      "  %reload_ext autoreload\n"
     ]
    }
   ],
   "source": [
    "import numpy as np \n",
    "import matplotlib.pyplot as plt\n",
    "%matplotlib inline\n",
    "# for auto-reloading external modules\n",
    "# see http://stackoverflow.com/questions/1907993/autoreload-of-modules-in-ipython\n",
    "%load_ext autoreload\n",
    "%autoreload 2"
   ]
  },
  {
   "cell_type": "code",
   "execution_count": 11,
   "metadata": {},
   "outputs": [],
   "source": [
    "def readfile(filename):\n",
    "    with open(filename,'r') as in_file:\n",
    "        val = in_file.readline()\n",
    "        ngrids = int(val.strip())\n",
    "        print(ngrids)\n",
    "        Mo_tensor = np.empty((ngrids,ngrids),dtype='float')\n",
    "        count = 0\n",
    "        for val in in_file:\n",
    "            val = val.strip().split()\n",
    "            Mo_tensor[count,:]= val\n",
    "            count += 1\n",
    "        return Mo_tensor"
   ]
  },
  {
   "cell_type": "code",
   "execution_count": 12,
   "metadata": {},
   "outputs": [
    {
     "name": "stdout",
     "output_type": "stream",
     "text": [
      "16\n",
      "16\n"
     ]
    },
    {
     "data": {
      "image/png": "[encoded data removed]",
      "text/plain": [
       "<Figure size 1152x576 with 2 Axes>"
      ]
     },
     "metadata": {
      "needs_background": "light"
     },
     "output_type": "display_data"
    }
   ],
   "source": [
    "filename_1  = 'MLCVD_0002/Training_Data/19.txt'\n",
    "filename_2  = 'MLCVD_0002/Training_Data/20.txt'\n",
    "Mo_1 = readfile(filename_1)\n",
    "Mo_2 = readfile(filename_2)\n",
    "fig, (ax0, ax1) = plt.subplots(ncols=2,figsize=(16, 8))\n",
    "ax0.imshow(Mo_1)\n",
    "ax1.imshow(Mo_2)\n",
    "plt.show()\n",
    "fig.savefig(\"fig.png\",dpi=300)"
   ]
  },
  {
   "cell_type": "code",
   "execution_count": null,
   "metadata": {},
   "outputs": [],
   "source": []
  },
  {
   "cell_type": "code",
   "execution_count": null,
   "metadata": {},
   "outputs": [],
   "source": []
  }
 ],
 "metadata": {
  "kernelspec": {
   "display_name": "Python 3",
   "language": "python",
   "name": "python3"
  },
  "language_info": {
   "codemirror_mode": {
    "name": "ipython",
    "version": 3
   },
   "file_extension": ".py",
   "mimetype": "text/x-python",
   "name": "python",
   "nbconvert_exporter": "python",
   "pygments_lexer": "ipython3",
   "version": "3.6.6"
  }
 },
 "nbformat": 4,
 "nbformat_minor": 1
}
